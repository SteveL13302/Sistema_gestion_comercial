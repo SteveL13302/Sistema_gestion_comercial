{
 "cells": [
  {
   "cell_type": "code",
   "execution_count": 2,
   "id": "f211a5e1-e909-4d1c-8234-d3cf195db1b3",
   "metadata": {},
   "outputs": [],
   "source": [
    "import os\n",
    "import django\n",
    "from django.conf import settings\n",
    " \n",
    "# Ajusta la ruta al directorio de tu proyecto Django\n",
    "os.environ['DJANGO_SETTINGS_MODULE'] = 'gestioncomercial.settings'\n",
    "os.environ[\"DJANGO_ALLOW_ASYNC_UNSAFE\"] = \"true\"\n",
    "django.setup()"
   ]
  },
  {
   "cell_type": "code",
   "execution_count": 3,
   "id": "e0fd5098-64f9-4f4b-821c-47dfd224843a",
   "metadata": {},
   "outputs": [],
   "source": [
    "from pedidos.models import Cliente"
   ]
  },
  {
   "cell_type": "code",
   "execution_count": 6,
   "id": "a181d223-15d9-4190-a6a7-b2532a35017e",
   "metadata": {},
   "outputs": [],
   "source": [
    "clientes = Cliente.objects.all()"
   ]
  },
  {
   "cell_type": "code",
   "execution_count": 7,
   "id": "472204ac-9a3a-4b83-ae70-7b1cd62a6d8b",
   "metadata": {},
   "outputs": [
    {
     "data": {
      "text/plain": [
       "<QuerySet [<Cliente: Henry Mejia, 1547884722>, <Cliente: Steve Lara, 1722236799>, <Cliente: Jose, 1221165162>, <Cliente: asdassad, 2121212132>, <Cliente: sdsadf, 1444212141>, <Cliente: saasdd, 2123213321>, <Cliente: R4m0n123*, 2121122132>]>"
      ]
     },
     "execution_count": 7,
     "metadata": {},
     "output_type": "execute_result"
    }
   ],
   "source": [
    "clientes"
   ]
  },
  {
   "cell_type": "code",
   "execution_count": 8,
   "id": "3c4fd90c-3b01-49ac-b298-4b4fc1ae614e",
   "metadata": {},
   "outputs": [],
   "source": [
    "nuevocliente = Cliente(nombre = \"Julian Maya\", cedula = \"08412533\", email = \"julian55@gmail.com\", telefono = \"0941258974\", ciudad = \"Quito\", direccion = \"Floresta\")"
   ]
  },
  {
   "cell_type": "code",
   "execution_count": null,
   "id": "649ae8f7-00fe-4925-b72a-aa3326f3c23d",
   "metadata": {},
   "outputs": [],
   "source": []
  }
 ],
 "metadata": {
  "kernelspec": {
   "display_name": "Python 3 (ipykernel)",
   "language": "python",
   "name": "python3"
  },
  "language_info": {
   "codemirror_mode": {
    "name": "ipython",
    "version": 3
   },
   "file_extension": ".py",
   "mimetype": "text/x-python",
   "name": "python",
   "nbconvert_exporter": "python",
   "pygments_lexer": "ipython3",
   "version": "3.12.4"
  }
 },
 "nbformat": 4,
 "nbformat_minor": 5
}
